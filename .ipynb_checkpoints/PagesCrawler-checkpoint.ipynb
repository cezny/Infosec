{
 "cells": [
  {
   "cell_type": "code",
   "execution_count": 309,
   "metadata": {},
   "outputs": [],
   "source": [
    "import matplotlib.pyplot as plt\n",
    "import pandas as pd\n",
    "import numpy as np"
   ]
  },
  {
   "cell_type": "code",
   "execution_count": 310,
   "metadata": {},
   "outputs": [],
   "source": [
    "#preprocessing\n",
    "#reading the files, our keywords and pages \n",
    "\n",
    "keywords = pd.read_csv('keyword.csv')\n",
    "pages = pd.read_csv('pages.csv')\n",
    "\n",
    "#Get files raw data\n",
    "processed_keywords = keywords.values\n",
    "processed_pages = pages.values"
   ]
  },
  {
   "cell_type": "code",
   "execution_count": 319,
   "metadata": {},
   "outputs": [
    {
     "name": "stdout",
     "output_type": "stream",
     "text": [
      "From the web page called   awf.html\n",
      "----------------------------------- \n",
      "\n",
      "From the web page called   bestway.html\n",
      "----------------------------------- \n",
      "\n",
      "Match : <_sre.SRE_Match object; span=(12, 15), match='cpu'>\n",
      "Match : <_sre.SRE_Match object; span=(46, 49), match='cpu'>\n",
      "Match : <_sre.SRE_Match object; span=(25, 36), match='bitcoin.com'>\n",
      "Match : <_sre.SRE_Match object; span=(24, 35), match='bitcoin.com'>\n",
      "Match : <_sre.SRE_Match object; span=(12, 15), match='cpu'>\n",
      "Match : <_sre.SRE_Match object; span=(46, 49), match='cpu'>\n",
      "Match : <_sre.SRE_Match object; span=(21, 26), match='coin '>\n",
      "Match : <_sre.SRE_Match object; span=(56, 61), match='coin '>\n",
      "Match : <_sre.SRE_Match object; span=(21, 26), match='coin '>\n",
      "Match : <_sre.SRE_Match object; span=(31, 36), match='coin '>\n",
      "Match : <_sre.SRE_Match object; span=(3, 8), match='coin '>\n",
      "Match : <_sre.SRE_Match object; span=(30, 36), match='monero'>\n",
      "Match : <_sre.SRE_Match object; span=(52, 56), match='hash'>\n",
      "Match : <_sre.SRE_Match object; span=(102, 106), match='hash'>\n",
      "Match : <_sre.SRE_Match object; span=(52, 58), match='hashes'>\n",
      "From the web page called   browser_mine.html\n",
      "----------------------------------- \n",
      "\n",
      "Match : <_sre.SRE_Match object; span=(17, 22), match='miner'>\n",
      "Match : <_sre.SRE_Match object; span=(56, 62), match='monero'>\n",
      "Match : <_sre.SRE_Match object; span=(10, 18), match='throttle'>\n",
      "Match : <_sre.SRE_Match object; span=(18, 29), match='browsermine'>\n",
      "Match : <_sre.SRE_Match object; span=(18, 29), match='browsermine'>\n",
      "Match : <_sre.SRE_Match object; span=(18, 29), match='browsermine'>\n",
      "Match : <_sre.SRE_Match object; span=(18, 29), match='browsermine'>\n",
      "Match : <_sre.SRE_Match object; span=(18, 29), match='browsermine'>\n",
      "Match : <_sre.SRE_Match object; span=(18, 29), match='browsermine'>\n",
      "Match : <_sre.SRE_Match object; span=(18, 29), match='browsermine'>\n",
      "Match : <_sre.SRE_Match object; span=(17, 28), match='browsermine'>\n",
      "Match : <_sre.SRE_Match object; span=(17, 28), match='browsermine'>\n",
      "Match : <_sre.SRE_Match object; span=(17, 28), match='browsermine'>\n",
      "Match : <_sre.SRE_Match object; span=(17, 28), match='browsermine'>\n",
      "Match : <_sre.SRE_Match object; span=(17, 28), match='browsermine'>\n",
      "Match : <_sre.SRE_Match object; span=(17, 28), match='browsermine'>\n",
      "From the web page called   cmu.html\n",
      "----------------------------------- \n",
      "\n",
      "From the web page called   cnn.html\n",
      "----------------------------------- \n",
      "\n",
      "Match : <_sre.SRE_Match object; span=(76024, 76032), match='throttle'>\n",
      "Match : <_sre.SRE_Match object; span=(40255, 40259), match='hash'>\n",
      "From the web page called   fireeye.html\n",
      "----------------------------------- \n",
      "\n",
      "Match : <_sre.SRE_Match object; span=(283, 287), match='hash'>\n",
      "From the web page called   lightminer.html\n",
      "----------------------------------- \n",
      "\n",
      "Match : <_sre.SRE_Match object; span=(31, 36), match='miner'>\n",
      "Match : <_sre.SRE_Match object; span=(17, 28), match='browsermine'>\n",
      "Match : <_sre.SRE_Match object; span=(17, 28), match='browsermine'>\n",
      "Match : <_sre.SRE_Match object; span=(17, 28), match='browsermine'>\n",
      "Match : <_sre.SRE_Match object; span=(17, 28), match='browsermine'>\n",
      "Match : <_sre.SRE_Match object; span=(17, 28), match='browsermine'>\n",
      "Match : <_sre.SRE_Match object; span=(17, 28), match='browsermine'>\n"
     ]
    },
    {
     "ename": "TypeError",
     "evalue": "must be str, not _sre.SRE_Match",
     "output_type": "error",
     "traceback": [
      "\u001b[0;31m---------------------------------------------------------------------------\u001b[0m",
      "\u001b[0;31mTypeError\u001b[0m                                 Traceback (most recent call last)",
      "\u001b[0;32m<ipython-input-319-5066e82bd4a6>\u001b[0m in \u001b[0;36m<module>\u001b[0;34m()\u001b[0m\n\u001b[1;32m     24\u001b[0m \u001b[0;34m\u001b[0m\u001b[0m\n\u001b[1;32m     25\u001b[0m             \u001b[0;32mif\u001b[0m \u001b[0mpattern\u001b[0m\u001b[0;34m.\u001b[0m\u001b[0msearch\u001b[0m\u001b[0;34m(\u001b[0m\u001b[0mstr\u001b[0m\u001b[0;34m(\u001b[0m\u001b[0msoup\u001b[0m\u001b[0;34m.\u001b[0m\u001b[0ma\u001b[0m\u001b[0;34m)\u001b[0m\u001b[0;34m)\u001b[0m\u001b[0;34m:\u001b[0m                 \u001b[0;31m#\u001b[0m\u001b[0;34m\u001b[0m\u001b[0;34m\u001b[0m\u001b[0m\n\u001b[0;32m---> 26\u001b[0;31m                 \u001b[0mprint\u001b[0m\u001b[0;34m(\u001b[0m\u001b[0;34m\"Match :\"\u001b[0m \u001b[0;34m+\u001b[0m \u001b[0mpattern\u001b[0m\u001b[0;34m.\u001b[0m\u001b[0msearch\u001b[0m\u001b[0;34m(\u001b[0m\u001b[0mstr\u001b[0m\u001b[0;34m(\u001b[0m\u001b[0msoup\u001b[0m\u001b[0;34m.\u001b[0m\u001b[0ma\u001b[0m\u001b[0;34m)\u001b[0m\u001b[0;34m)\u001b[0m \u001b[0;34m+\u001b[0m \u001b[0;34m\" \\n\"\u001b[0m\u001b[0;34m)\u001b[0m\u001b[0;34m\u001b[0m\u001b[0;34m\u001b[0m\u001b[0m\n\u001b[0m",
      "\u001b[0;31mTypeError\u001b[0m: must be str, not _sre.SRE_Match"
     ]
    }
   ],
   "source": [
    "for page in processed_pages:\n",
    "    print('From the web page called  ', page[0])\n",
    "    print(\"----------------------------------- \\n\")\n",
    "    \n",
    "    with open(page[0]) as fp:                   # Open files\n",
    "        \n",
    "        soup = BeautifulSoup(fp, \"lxml\")        #Read files \n",
    "        \n",
    "        for keyword in processed_keywords:\n",
    "            \n",
    "            pattern = re.compile(keyword[0])    # define our keyword as a search pattern\n",
    "            \n",
    "            class MyHTMLParser(HTMLParser):\n",
    "                def handle_starttag(self, tag, attrs):\n",
    "                    for attr in attrs:\n",
    "                        if pattern.search(str(attr)):\n",
    "                            print(\"Match :\", pattern.search(str(attr)))\n",
    "                def handle_data(self, data):\n",
    "                    if pattern.search(data):\n",
    "                        print(\"Match :\", pattern.search(data))\n",
    "            \n",
    "            parser = MyHTMLParser()\n",
    "            parser.feed(str(soup))\n",
    "            \n",
    "            if pattern.search(str(soup.a)):                 #\n",
    "                print(\"Match :\" + pattern.search(str(soup.a)))\n",
    "    print(\" \")"
   ]
  },
  {
   "cell_type": "code",
   "execution_count": null,
   "metadata": {},
   "outputs": [],
   "source": []
  }
 ],
 "metadata": {
  "kernelspec": {
   "display_name": "Python 3",
   "language": "python",
   "name": "python3"
  },
  "language_info": {
   "codemirror_mode": {
    "name": "ipython",
    "version": 3
   },
   "file_extension": ".py",
   "mimetype": "text/x-python",
   "name": "python",
   "nbconvert_exporter": "python",
   "pygments_lexer": "ipython3",
   "version": "3.6.8"
  }
 },
 "nbformat": 4,
 "nbformat_minor": 2
}
