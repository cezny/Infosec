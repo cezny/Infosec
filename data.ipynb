{
 "cells": [
  {
   "cell_type": "code",
   "execution_count": 3,
   "metadata": {},
   "outputs": [],
   "source": [
    "import numpy as np\n",
    "from random import sample\n",
    "from itertools import combinations\n",
    "import pandas as pd\n",
    "import csv\n",
    "import json"
   ]
  },
  {
   "cell_type": "code",
   "execution_count": 4,
   "metadata": {},
   "outputs": [
    {
     "data": {
      "text/plain": [
       "(47, 365)"
      ]
     },
     "execution_count": 4,
     "metadata": {},
     "output_type": "execute_result"
    }
   ],
   "source": [
    "DatasetTB1 = pd.read_csv('DatasetTB.csv')\n",
    "data = DatasetTB1.values.T\n",
    "data.shape"
   ]
  },
  {
   "cell_type": "code",
   "execution_count": 5,
   "metadata": {},
   "outputs": [],
   "source": [
    "monthsData = np.array([31, 59, 90, 120, 151, 181,212, 243, 273, 304, 334, 365])"
   ]
  },
  {
   "cell_type": "code",
   "execution_count": 6,
   "metadata": {},
   "outputs": [],
   "source": [
    "months = [\"January\",\"February\",\"March\",\"April\",\"May\",\"June\",\"July\",\"August\",\"September\",\"October\",\"November\",\"December\"]"
   ]
  },
  {
   "cell_type": "code",
   "execution_count": 7,
   "metadata": {},
   "outputs": [],
   "source": [
    "DictName = dict(zip(months, monthsData))"
   ]
  },
  {
   "cell_type": "code",
   "execution_count": 8,
   "metadata": {},
   "outputs": [],
   "source": [
    "DictName\n",
    "np.save('DictName.npy', DictName)"
   ]
  },
  {
   "cell_type": "code",
   "execution_count": 110,
   "metadata": {},
   "outputs": [
    {
     "data": {
      "text/plain": [
       "120"
      ]
     },
     "execution_count": 110,
     "metadata": {},
     "output_type": "execute_result"
    }
   ],
   "source": [
    "monthsIndex = np.load('DictName.npy').tolist()\n",
    "monthsIndex['April']"
   ]
  },
  {
   "cell_type": "code",
   "execution_count": 120,
   "metadata": {},
   "outputs": [
    {
     "data": {
      "text/plain": [
       "(47, 30)"
      ]
     },
     "execution_count": 120,
     "metadata": {},
     "output_type": "execute_result"
    }
   ],
   "source": [
    "data[:, (monthsIndex['April']-30):monthsIndex['April']].shape"
   ]
  },
  {
   "cell_type": "code",
   "execution_count": 3,
   "metadata": {},
   "outputs": [
    {
     "data": {
      "text/plain": [
       "<pymongo.results.InsertOneResult at 0x7f62ace34a88>"
      ]
     },
     "execution_count": 3,
     "metadata": {},
     "output_type": "execute_result"
    }
   ],
   "source": [
    "# from pymongo import MongoClient\n",
    "# import numpy as np\n",
    "# import pandas as pd\n",
    "# import bson\n",
    "# DatasetTB1 = pd.read_csv('DatasetTB.csv')\n",
    "# outputData = {}\n",
    "# DatasetTB1.columns\n",
    "# for county in DatasetTB1.columns:\n",
    "#     outputData[county]= DatasetTB1[county].values.tolist()\n",
    "\n",
    "# client = MongoClient('mongodb://localhost:27017/')\n",
    "# db = client['practicum']\n",
    "\n",
    "# collection = db.collection\n",
    "# DatasetTB1 = pd.read_csv('DatasetTB.csv')\n",
    "# collection.insert_one(outputData)"
   ]
  },
  {
   "cell_type": "code",
   "execution_count": 5,
   "metadata": {},
   "outputs": [],
   "source": [
    "# DatasetTB1.shape\n",
    "# json.dumps(DatasetTB1.to_dict())"
   ]
  },
  {
   "cell_type": "code",
   "execution_count": 6,
   "metadata": {},
   "outputs": [],
   "source": [
    "# c = DatasetTB1.to_dict()\n",
    "# #type(post)\n",
    "# c['baringo'].keys()"
   ]
  },
  {
   "cell_type": "code",
   "execution_count": 7,
   "metadata": {},
   "outputs": [],
   "source": [
    "# records = DatasetTB1.iloc[:,1].to_dict()\n",
    "# data = json.dumps(records)\n",
    "# dataV = bson.BSON.encode(records)\n",
    "# dataV"
   ]
  },
  {
   "cell_type": "code",
   "execution_count": 8,
   "metadata": {},
   "outputs": [],
   "source": [
    "# colz = DatasetTB1.iloc[0,:]\n",
    "# valsLower = [item.lower() for item in colz.tolist()]\n",
    "# df = pd.Series(valsLower)\n",
    "# DatasetTB1.columns = df\n",
    "# DatasetTB1 = DatasetTB1.drop([0])\n",
    "# DatasetTB1\n",
    "# DatasetTB1['siaya']"
   ]
  },
  {
   "cell_type": "code",
   "execution_count": 9,
   "metadata": {},
   "outputs": [],
   "source": [
    "# [coords for coords in  DatasetTB1]\n",
    "# DatasetTB1['baringo'].values"
   ]
  },
  {
   "cell_type": "code",
   "execution_count": 10,
   "metadata": {},
   "outputs": [],
   "source": [
    "outputData = {}\n",
    "DatasetTB1.columns\n",
    "for county in DatasetTB1.columns:\n",
    "    outputData[county]= DatasetTB1[county].values.tolist()"
   ]
  },
  {
   "cell_type": "code",
   "execution_count": 1,
   "metadata": {},
   "outputs": [],
   "source": [
    "\n",
    "# Gjsonc= json.dumps(np.array(outputData))\n",
    "# outputData['nairobi']"
   ]
  },
  {
   "cell_type": "code",
   "execution_count": 2,
   "metadata": {},
   "outputs": [],
   "source": [
    "# #json.dump(outputData,sort_keys=True)\n",
    "# with open('user.json','w') as file:\n",
    "#          json.dump(outputData, file, sort_keys=True, indent=4)"
   ]
  },
  {
   "cell_type": "code",
   "execution_count": 13,
   "metadata": {},
   "outputs": [],
   "source": [
    "# DatasetTB1.to_csv('DatasetTB.csv', index=False);"
   ]
  },
  {
   "cell_type": "code",
   "execution_count": 3,
   "metadata": {},
   "outputs": [],
   "source": [
    "# from pymongo import MongoClient\n",
    "# from sklearn.externals import joblib\n",
    "# import numpy as np\n",
    "# import pandas as pd\n",
    "\n",
    "# client = MongoClient('mongodb://localhost:27017/')\n",
    "# db = client['practicum']\n",
    "\n",
    "# collection = db.collection\n",
    "# DatasetTB1 = pd.read_csv('DatasetTB.csv')\n",
    "# collection.insert_one(outputData)"
   ]
  },
  {
   "cell_type": "code",
   "execution_count": 4,
   "metadata": {},
   "outputs": [],
   "source": [
    "#  np.random.poisson(5, 47)"
   ]
  },
  {
   "cell_type": "code",
   "execution_count": 5,
   "metadata": {},
   "outputs": [],
   "source": [
    "# collection.find()"
   ]
  },
  {
   "cell_type": "code",
   "execution_count": 6,
   "metadata": {},
   "outputs": [],
   "source": [
    "# Data = [data for data in collection.find()][0]\n",
    "# counties = dict(zip([data for data in Data][1:], np.arange(47)))\n",
    "# counties\n",
    "# processed_data = np.array([Data[index] for index in Data][1:])\n",
    "# np.sum(processed_data, axis=1).shape\n",
    "# All = np.sum(processed_data, axis=1)\n",
    "# All"
   ]
  },
  {
   "cell_type": "code",
   "execution_count": 7,
   "metadata": {},
   "outputs": [],
   "source": [
    "# index = np.argsort(-All)[:5]\n",
    "# All[index]"
   ]
  },
  {
   "cell_type": "code",
   "execution_count": null,
   "metadata": {},
   "outputs": [],
   "source": []
  },
  {
   "cell_type": "code",
   "execution_count": null,
   "metadata": {},
   "outputs": [],
   "source": []
  },
  {
   "cell_type": "code",
   "execution_count": null,
   "metadata": {},
   "outputs": [],
   "source": []
  },
  {
   "cell_type": "code",
   "execution_count": 289,
   "metadata": {},
   "outputs": [
    {
     "data": {
      "text/plain": [
       "(47, 1)"
      ]
     },
     "execution_count": 289,
     "metadata": {},
     "output_type": "execute_result"
    }
   ],
   "source": [
    "#quickSort(All)\n",
    "All.shape"
   ]
  },
  {
   "cell_type": "code",
   "execution_count": 275,
   "metadata": {},
   "outputs": [],
   "source": [
    "model = joblib.load('Linear.pkl')"
   ]
  },
  {
   "cell_type": "code",
   "execution_count": 156,
   "metadata": {},
   "outputs": [],
   "source": [
    "predictions = []\n",
    "x = np.arange(365).reshape(1, -1)\n",
    "for i in range(0, 357, 7):\n",
    "    index = list(np.roll(x, (-166 - i))[:, 0:200])\n",
    "    pred = model.predict(processed_data[:, index].reshape(47, 200))\n",
    "    pred = pred.astype(int)\n",
    "    pred[pred < 0] = 0\n",
    "    if i == 0:\n",
    "        predictions.append(pred)\n",
    "        predictions = np.array(predictions).reshape(47, 7)\n",
    "    predictions = np.concatenate([predictions, pred], axis=1)"
   ]
  },
  {
   "cell_type": "code",
   "execution_count": 250,
   "metadata": {},
   "outputs": [],
   "source": [
    "# datalast = dict(zip([data for data in Data][1:], All))\n",
    "# datalast"
   ]
  },
  {
   "cell_type": "code",
   "execution_count": 249,
   "metadata": {},
   "outputs": [
    {
     "data": {
      "text/plain": [
       "'[[\"baringo\", 108], [\"bomet\", 174], [\"bungoma\", 127], [\"busia\", 329], [\"elgeiyo-marakwet\", 109], [\"embu\", 66], [\"garissa\", 119], [\"homa bay\", 426], [\"isiolo\", 338], [\"kajiado\", 292], [\"kakamega\", 185], [\"kericho\", 248], [\"kiambu\", 257], [\"kilifi\", 220], [\"kirinyaga\", 263], [\"kisii\", 170], [\"kisumu\", 379], [\"kitui\", 71], [\"kwale\", 197], [\"laikipia\", 159], [\"lamu\", 208], [\"machakos\", 60], [\"makueni\", 52], [\"mandera\", 126], [\"marsabit\", 236], [\"meru\", 158], [\"migori\", 309], [\"mombasa\", 535], [\"murang\\'a\", 183], [\"nairobi\", 490], [\"nakuru\", 237], [\"nandi\", 83], [\"narok\", 159], [\"nyamira\", 139], [\"nyandarua\", 126], [\"nyeri\", 234], [\"samburu\", 211], [\"siaya\", 322], [\"taita taveta\", 211], [\"tana river\", 63], [\"tharaka - nithi\", 62], [\"trans nzoia\", 155], [\"turkana\", 200], [\"uasin gishu\", 190], [\"vihiga\", 198], [\"wajir\", 125], [\"west pokot\", 191]]'"
      ]
     },
     "execution_count": 249,
     "metadata": {},
     "output_type": "execute_result"
    }
   ],
   "source": [
    "\n",
    "counts = [(data,int(datalast[data]))for data in datalast]\n",
    "# #print(\"Counts ********\", counts\n",
    "# for data in counts:\n",
    "#     temp = int(data[1])\n",
    "#     data[1] = temp\n",
    "# #print(\"Counts +++++++++\", counts)\n",
    "# int(counts[1][1])\n",
    "json.dumps(counts)"
   ]
  },
  {
   "cell_type": "code",
   "execution_count": 246,
   "metadata": {},
   "outputs": [],
   "source": [
    "value = '1,05'"
   ]
  },
  {
   "cell_type": "code",
   "execution_count": 247,
   "metadata": {},
   "outputs": [
    {
     "data": {
      "text/plain": [
       "['1,05']"
      ]
     },
     "execution_count": 247,
     "metadata": {},
     "output_type": "execute_result"
    }
   ],
   "source": [
    "value.split(\" , \")"
   ]
  },
  {
   "cell_type": "code",
   "execution_count": 79,
   "metadata": {},
   "outputs": [
    {
     "data": {
      "text/plain": [
       "(47, 365)"
      ]
     },
     "execution_count": 79,
     "metadata": {},
     "output_type": "execute_result"
    }
   ],
   "source": [
    "#outputData['nairobi']\n",
    "o = [Data[data] for data in Data][1:]\n",
    "ox = np.array(o[1:])\n",
    "np.array(o).shape"
   ]
  },
  {
   "cell_type": "code",
   "execution_count": 218,
   "metadata": {},
   "outputs": [],
   "source": [
    "array = np.arange(10).reshape(2,5)"
   ]
  },
  {
   "cell_type": "code",
   "execution_count": 224,
   "metadata": {},
   "outputs": [
    {
     "data": {
      "text/plain": [
       "array([10, 35])"
      ]
     },
     "execution_count": 224,
     "metadata": {},
     "output_type": "execute_result"
    }
   ],
   "source": [
    "np.sum(array, axis=1)"
   ]
  },
  {
   "cell_type": "code",
   "execution_count": 158,
   "metadata": {},
   "outputs": [],
   "source": [
    "# uData = []\n",
    "# for data in last:\n",
    "#     if data != '_id':\n",
    "#         uData.append(last[data])\n",
    "#         print(data)\n",
    "# uData = np.array(uData)\n",
    "# print(uData.shape)\n",
    "\n",
    "# [data if  data != '_id' for data in last]"
   ]
  },
  {
   "cell_type": "code",
   "execution_count": 3,
   "metadata": {},
   "outputs": [],
   "source": [
    "# hivData = pd.read_csv('DatasetTB.csv')\n",
    "# colz = hivData.iloc[0,:]\n",
    "# hivData.columns = df\n",
    "# hivData = hivData.drop([0])\n",
    "# hivData\n",
    "# hivData['siaya']"
   ]
  },
  {
   "cell_type": "code",
   "execution_count": 2,
   "metadata": {},
   "outputs": [],
   "source": [
    "#DatasetTB1['Baringo']"
   ]
  },
  {
   "cell_type": "code",
   "execution_count": 4,
   "metadata": {},
   "outputs": [],
   "source": [
    "# counties = np.arange(47)+1"
   ]
  },
  {
   "cell_type": "code",
   "execution_count": 20,
   "metadata": {},
   "outputs": [],
   "source": [
    "# dataset = []"
   ]
  },
  {
   "cell_type": "code",
   "execution_count": 5,
   "metadata": {},
   "outputs": [],
   "source": [
    "# comb = combinations(counties, 2) \n",
    "# # for i in list(comb): \n",
    "#     dataset.append(np.concatenate((np.array(i),np.array(sample(range(453, 2031) ,365)))))\n",
    "# dataset = np.array(dataset)"
   ]
  },
  {
   "cell_type": "code",
   "execution_count": null,
   "metadata": {},
   "outputs": [],
   "source": []
  },
  {
   "cell_type": "code",
   "execution_count": 22,
   "metadata": {},
   "outputs": [],
   "source": [
    "np.save('Dataset.npy', np.array(dataset))"
   ]
  },
  {
   "cell_type": "code",
   "execution_count": null,
   "metadata": {},
   "outputs": [],
   "source": []
  }
 ],
 "metadata": {
  "kernelspec": {
   "display_name": "Python 3",
   "language": "python",
   "name": "python3"
  },
  "language_info": {
   "codemirror_mode": {
    "name": "ipython",
    "version": 3
   },
   "file_extension": ".py",
   "mimetype": "text/x-python",
   "name": "python",
   "nbconvert_exporter": "python",
   "pygments_lexer": "ipython3",
   "version": "3.6.8"
  }
 },
 "nbformat": 4,
 "nbformat_minor": 2
}
