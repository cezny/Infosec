{
 "cells": [
  {
   "cell_type": "code",
   "execution_count": 309,
   "metadata": {},
   "outputs": [],
   "source": [
    "import matplotlib.pyplot as plt\n",
    "import pandas as pd\n",
    "import numpy as np"
   ]
  },
  {
   "cell_type": "code",
   "execution_count": 310,
   "metadata": {},
   "outputs": [],
   "source": [
    "#preprocessing\n",
    "keywords = pd.read_csv('keyword.csv')\n",
    "pages = pd.read_csv('pages.csv')\n",
    "processed_keywords = keywords.values\n",
    "processed_pages = pages.values"
   ]
  },
  {
   "cell_type": "code",
   "execution_count": 318,
   "metadata": {},
   "outputs": [],
   "source": [
    "for page in processed_pages:\n",
    "    print('From the web page called  ', page[0])\n",
    "    print(\"----------------------------------- \\n\")\n",
    "    with open(page[0]) as fp:\n",
    "        soup = BeautifulSoup(fp, \"lxml\")\n",
    "        for keyword in processed_keywords:\n",
    "            pattern = re.compile(keyword[0])\n",
    "            class MyHTMLParser(HTMLParser):\n",
    "                def handle_starttag(self, tag, attrs):\n",
    "                    for attr in attrs:\n",
    "                        if pattern.search(str(attr)):\n",
    "                            print(\"Match :\", pattern.search(str(attr)))\n",
    "                def handle_data(self, data):\n",
    "                    if pattern.search(data):\n",
    "                        print(\"Match :\", pattern.search(data))\n",
    "            parser = MyHTMLParser()\n",
    "            parser.feed(str(soup))\n",
    "            if pattern.search(str(soup.a)):\n",
    "                print(\"Match :\",pattern.search(str(soup.a)))\n",
    "    print(\" \")"
   ]
  }
 ],
 "metadata": {
  "kernelspec": {
   "display_name": "Python 3",
   "language": "python",
   "name": "python3"
  },
  "language_info": {
   "codemirror_mode": {
    "name": "ipython",
    "version": 3
   },
   "file_extension": ".py",
   "mimetype": "text/x-python",
   "name": "python",
   "nbconvert_exporter": "python",
   "pygments_lexer": "ipython3",
   "version": "3.6.8"
  }
 },
 "nbformat": 4,
 "nbformat_minor": 2
}
